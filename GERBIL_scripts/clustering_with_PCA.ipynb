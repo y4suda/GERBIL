{
 "cells": [
  {
   "cell_type": "markdown",
   "metadata": {},
   "source": [
    "# import library"
   ]
  },
  {
   "cell_type": "code",
   "execution_count": null,
   "metadata": {},
   "outputs": [],
   "source": [
    "import pyemma\n",
    "pyemma.__version__\n",
    "import os\n",
    "import itertools\n",
    "import matplotlib\n",
    "import matplotlib.pyplot as plt\n",
    "import matplotlib.cm as cm\n",
    "import numpy as np\n",
    "import glob\n",
    "import MDAnalysis as mda\n",
    "import MDAnalysis.transformations\n",
    "from tqdm import tqdm_notebook as tqdm\n",
    "import pyemma.coordinates as coor\n",
    "import warnings"
   ]
  },
  {
   "cell_type": "markdown",
   "metadata": {},
   "source": [
    "# conduct PCA"
   ]
  },
  {
   "cell_type": "code",
   "execution_count": null,
   "metadata": {},
   "outputs": [],
   "source": [
    "all_xtc=sorted(glob.glob(f\"gerbil_main/*/*/amd_noPBC.xtc\"))\n",
    "top=f\"./gerbil_main/input/em.gro\"\n",
    "print(top,len(all_xtc))"
   ]
  },
  {
   "cell_type": "code",
   "execution_count": null,
   "metadata": {},
   "outputs": [],
   "source": [
    "traj_c_alpha=[]\n",
    "ref = mda.Universe(top)\n",
    "ref_c_alpha = ref.select_atoms(\"name CA\")\n",
    "for traj in tqdm(all_xtc):\n",
    "    u = mda.Universe(top, traj)\n",
    "    c_alpha = u.select_atoms(\"name CA\")\n",
    "    transform = mda.transformations.fit_rot_trans(c_alpha, ref_c_alpha ,weights=\"mass\")\n",
    "    u.trajectory.add_transformations(transform)\n",
    "    for ts in (u.trajectory):\n",
    "        traj_c_alpha.append(list(itertools.chain.from_iterable(c_alpha.positions)))\n",
    "print(np.shape(traj_c_alpha))"
   ]
  },
  {
   "cell_type": "code",
   "execution_count": null,
   "metadata": {},
   "outputs": [],
   "source": [
    "from sklearn.decomposition import PCA\n",
    "pca = PCA()\n",
    "pca.fit(traj_c_alpha)\n",
    "init_pca = pca.transform(traj_c_alpha)"
   ]
  },
  {
   "cell_type": "code",
   "execution_count": null,
   "metadata": {},
   "outputs": [],
   "source": [
    "plt.plot([0] + list(np.cumsum(pca.explained_variance_ratio_))[:10], linewidth=0, marker='o', markersize=3, color='black')\n",
    "print(pca.explained_variance_ratio_[:10])"
   ]
  },
  {
   "cell_type": "markdown",
   "metadata": {},
   "source": [
    "# projection onto 2D pc subspace"
   ]
  },
  {
   "cell_type": "code",
   "execution_count": null,
   "metadata": {},
   "outputs": [],
   "source": [
    "for traj in tqdm(all_xtc):\n",
    "        place=traj.replace(\"amd_noPBC.xtc\",\"\")\n",
    "        u = mda.Universe(top,traj)\n",
    "        c_alpha = u.select_atoms(\"name CA\")\n",
    "        transform = mda.transformations.fit_rot_trans(c_alpha, ref_c_alpha ,weights=\"mass\")\n",
    "        u.trajectory.add_transformations(transform)\n",
    "        traj_c_alpha=[]\n",
    "        for ts in u.trajectory:\n",
    "            traj_c_alpha.append(list(itertools.chain.from_iterable(c_alpha.positions)))\n",
    "        pca_result=pca.transform(traj_c_alpha)\n",
    "        np.savetxt(f\"{place}RC.txt\",np.array([pca_result[:,0],pca_result[:,1]]).T)    "
   ]
  },
  {
   "cell_type": "code",
   "execution_count": null,
   "metadata": {},
   "outputs": [],
   "source": [
    "all_reader=[]\n",
    "for index,name in enumerate(sorted(glob.glob(f\"./gerbil_main/*/*/RC.txt\"))):\n",
    "    all_reader.append(np.loadtxt(name))\n",
    "all_XYZ=all_reader\n",
    "all_X=np.vstack(all_XYZ)[:,0]\n",
    "all_Y=np.vstack(all_XYZ)[:,1]\n",
    "print(np.shape(all_X),np.shape(all_Y))"
   ]
  },
  {
   "cell_type": "code",
   "execution_count": null,
   "metadata": {},
   "outputs": [],
   "source": [
    "def conduct_pca(name):\n",
    "    ref = mda.Universe(f\"gerbil_main/input/em.gro\")\n",
    "    ref_c_alpha = ref.select_atoms(\"name CA\")\n",
    "    u = mda.Universe(name,name)\n",
    "    c_alpha = u.select_atoms(\"name CA\")\n",
    "    transform = mda.transformations.fit_rot_trans(c_alpha, ref_c_alpha ,weights=\"mass\")\n",
    "    u.trajectory.add_transformations(transform)\n",
    "    traj_c_alpha=[]\n",
    "    for ts in (u.trajectory):\n",
    "            traj_c_alpha.append(list(itertools.chain.from_iterable(c_alpha.positions)))\n",
    "    pca_result=pca.transform(traj_c_alpha)  \n",
    "    return [pca_result[:,0],pca_result[:,1]]"
   ]
  },
  {
   "cell_type": "code",
   "execution_count": null,
   "metadata": {},
   "outputs": [],
   "source": [
    "op=\"./gerbil_main/input/open_nowater.gro\"\n",
    "cl=\"./gerbil_main/input/closed_nowater.gro\"\n",
    "op_pca=(conduct_pca(op))\n",
    "cl_pca=(conduct_pca(cl))"
   ]
  },
  {
   "cell_type": "code",
   "execution_count": null,
   "metadata": {},
   "outputs": [],
   "source": [
    "fig = plt.figure() \n",
    "matplotlib.rcParams.update({'font.size': 15})\n",
    "plt.figure(figsize=(6,5))\n",
    "plt.scatter(op_pca[0],op_pca[1],c=\"red\",s=50,label=\"open\",zorder=999)\n",
    "plt.scatter(cl_pca[0],cl_pca[1],c=\"blue\",s=50,label=\"closed\")\n",
    "plt.plot(all_X,all_Y,marker=\"o\",linestyle='None',ms=0.5,alpha=0.7)\n",
    "plt.xlabel(\"PC1 [Å]\")\n",
    "plt.ylabel(\"PC2 [Å]\")\n",
    "plt.legend()\n",
    "plt.savefig(\"PCA.png\",dpi=300)"
   ]
  },
  {
   "cell_type": "markdown",
   "metadata": {},
   "source": [
    "# clustering with regspace"
   ]
  },
  {
   "cell_type": "code",
   "execution_count": null,
   "metadata": {},
   "outputs": [],
   "source": [
    "clustering = coor.cluster_regspace(all_XYZ,dmin=4.3, max_centers=200)\n",
    "dtrajs = clustering.dtrajs\n",
    "cc_x = clustering.clustercenters[:,0]\n",
    "cc_y = clustering.clustercenters[:,1]\n",
    "print(np.shape(cc_x),np.shape(cc_y))\n",
    "plt.figure(figsize=(6,6))\n",
    "plt.plot(all_X,all_Y,marker=\"o\",linestyle='None',ms=0.7,alpha=0.2)\n",
    "plt.plot(cc_x,cc_y,marker=\"o\",linestyle='None',ms=3.0)\n",
    "plt.scatter(op_pca[0],op_pca[1],c=\"red\",s=50,label=\"open\",zorder=999)\n",
    "plt.scatter(cl_pca[0],cl_pca[1],c=\"blue\",s=50,label=\"closed\",zorder=999)\n",
    "plt.xlabel(\"PC1 [Å]\")\n",
    "plt.ylabel(\"PC2 [Å]\")\n",
    "plt.savefig(\"PCA_cluster.png\",dpi=300)"
   ]
  },
  {
   "cell_type": "markdown",
   "metadata": {},
   "source": [
    "# convert xtc to gro"
   ]
  },
  {
   "cell_type": "code",
   "execution_count": null,
   "metadata": {},
   "outputs": [],
   "source": [
    "traj=sorted(all_xtc)\n",
    "print(len(traj))"
   ]
  },
  {
   "cell_type": "code",
   "execution_count": null,
   "metadata": {},
   "outputs": [],
   "source": [
    "cluster_centers = clustering.sample_indexes_by_cluster(range(200),1)"
   ]
  },
  {
   "cell_type": "code",
   "execution_count": null,
   "metadata": {
    "scrolled": true
   },
   "outputs": [],
   "source": [
    "for index, cc in enumerate(cluster_centers):\n",
    "    feat = pyemma.coordinates.featurizer(\"./gerbil_main/input/em.gro\")\n",
    "    traj_reader = pyemma.coordinates.source(traj[cc[0][0]], features=feat)\n",
    "    print(traj[cc[0][0]],index)\n",
    "    coor.save_traj(traj_reader, [[0, cc[0][1]]],f\"./resampling/initial_structures/{index+1}.gro\")"
   ]
  },
  {
   "cell_type": "code",
   "execution_count": null,
   "metadata": {
    "scrolled": true
   },
   "outputs": [],
   "source": [
    "! ./resampling/initial_structures/trjconv.sh "
   ]
  }
 ],
 "metadata": {
  "kernelspec": {
   "display_name": "Python 3",
   "language": "python",
   "name": "python3"
  },
  "language_info": {
   "codemirror_mode": {
    "name": "ipython",
    "version": 3
   },
   "file_extension": ".py",
   "mimetype": "text/x-python",
   "name": "python",
   "nbconvert_exporter": "python",
   "pygments_lexer": "ipython3",
   "version": "3.6.8"
  }
 },
 "nbformat": 4,
 "nbformat_minor": 4
}
