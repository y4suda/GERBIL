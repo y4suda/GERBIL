{
 "cells": [
  {
   "cell_type": "code",
   "execution_count": null,
   "metadata": {},
   "outputs": [],
   "source": [
    "import pyemma\n",
    "pyemma.__version__\n",
    "import matplotlib\n",
    "import matplotlib.pyplot as plt\n",
    "import matplotlib.cm as cm\n",
    "import numpy as np\n",
    "import pyemma.msm as msm\n",
    "import pyemma.plots as mplt\n",
    "import mdtraj\n",
    "import sys\n",
    "import glob\n",
    "import csv\n",
    "import os "
   ]
  },
  {
   "cell_type": "code",
   "execution_count": null,
   "metadata": {},
   "outputs": [],
   "source": [
    "import MDAnalysis as mda\n",
    "import MDAnalysis.transformations\n",
    "import itertools\n",
    "from tqdm import tqdm_notebook as tqdm\n",
    "import glob\n",
    "import pyemma.coordinates as coor"
   ]
  },
  {
   "cell_type": "code",
   "execution_count": null,
   "metadata": {},
   "outputs": [],
   "source": [
    "from MDAnalysis import Universe"
   ]
  },
  {
   "cell_type": "code",
   "execution_count": null,
   "metadata": {},
   "outputs": [],
   "source": [
    "%pwd"
   ]
  },
  {
   "cell_type": "code",
   "execution_count": null,
   "metadata": {},
   "outputs": [],
   "source": [
    "current_dir=os.getcwd()\n",
    "print(current_dir)"
   ]
  },
  {
   "cell_type": "code",
   "execution_count": null,
   "metadata": {
    "scrolled": false
   },
   "outputs": [],
   "source": [
    "all_reader=[]\n",
    "for index,name in enumerate(sorted(glob.glob(\"../gerbil_main/candi*/*/RC.txt\"))):\n",
    "        all_reader.append(np.loadtxt(name))\n",
    "all_Y=all_reader\n",
    "print(np.shape(all_Y))"
   ]
  },
  {
   "cell_type": "code",
   "execution_count": null,
   "metadata": {},
   "outputs": [],
   "source": [
    "n_clusters =100\n",
    "clustering = coor.cluster_kmeans(all_Y,k=n_clusters, stride=100, max_iter=5000)\n",
    "dtrajs = list(np.reshape(clustering.dtrajs,np.shape(all_Y)[0:2]))\n",
    "np.shape(dtrajs)"
   ]
  },
  {
   "cell_type": "code",
   "execution_count": null,
   "metadata": {},
   "outputs": [],
   "source": [
    "plt.figure(figsize=(12,8))\n",
    "mplt.plot_free_energy(np.vstack(all_Y)[:,0], np.vstack(all_Y)[:,1], levels=10, cmap=\"viridis\")\n",
    "cc_x = clustering.clustercenters[:,0]\n",
    "cc_y = clustering.clustercenters[:,1]\n",
    "plt.plot(cc_x,cc_y, linewidth=0, marker='o', markersize=3, color='black')\n",
    "plt.gca().set_aspect(\"equal\")"
   ]
  },
  {
   "cell_type": "code",
   "execution_count": null,
   "metadata": {},
   "outputs": [],
   "source": [
    "its = msm.timescales_msm(dtrajs, lags=500, nits=10, show_progress=True)"
   ]
  },
  {
   "cell_type": "code",
   "execution_count": null,
   "metadata": {},
   "outputs": [],
   "source": [
    "plt.figure(figsize=(8,5))\n",
    "matplotlib.rcParams.update({'font.size': 14})\n",
    "mplt.plot_implied_timescales(its, show_mean=False, ylog=True, dt=1, units='ps', linewidth=2)\n",
    "plt.xlim(0, 100); plt.ylim(1,100000);"
   ]
  },
  {
   "cell_type": "code",
   "execution_count": null,
   "metadata": {},
   "outputs": [],
   "source": [
    "msm_lag =30\n",
    "M = msm.estimate_markov_model(dtrajs, msm_lag)\n",
    "print('fraction of states used = ', M.active_state_fraction)\n",
    "print('fraction of counts used = ', M.active_count_fraction)"
   ]
  },
  {
   "cell_type": "code",
   "execution_count": null,
   "metadata": {},
   "outputs": [],
   "source": [
    "M = msm.bayesian_markov_model(dtrajs, msm_lag)"
   ]
  },
  {
   "cell_type": "code",
   "execution_count": null,
   "metadata": {},
   "outputs": [],
   "source": [
    "xall = np.vstack(all_Y)[:,0]\n",
    "yall = np.vstack(all_Y)[:,1]\n",
    "W = np.concatenate(M.trajectory_weights())\n",
    "np.savetxt(\"weight.xvg\",W)"
   ]
  },
  {
   "cell_type": "code",
   "execution_count": null,
   "metadata": {},
   "outputs": [],
   "source": [
    "open_RC=np.loadtxt(\"OP_RC.txt\")\n",
    "closed_RC=np.loadtxt(\"CL_RC.txt\")"
   ]
  },
  {
   "cell_type": "code",
   "execution_count": null,
   "metadata": {},
   "outputs": [],
   "source": [
    "all_reader=[]\n",
    "for index,name in enumerate(sorted(glob.glob(\"./candi_*/RC.txt\"))):\n",
    "        all_reader.extend(np.loadtxt(name))\n",
    "np.savetxt(\"all_RC.txt\",np.array(all_reader))"
   ]
  },
  {
   "cell_type": "code",
   "execution_count": null,
   "metadata": {},
   "outputs": [],
   "source": [
    "!paste all_RC.txt weight.xvg > string_input.xvg"
   ]
  },
  {
   "cell_type": "code",
   "execution_count": null,
   "metadata": {},
   "outputs": [],
   "source": [
    "matplotlib.rcParams.update({'font.size': 8})\n",
    "plt.figure(figsize=(8,5))\n",
    "mplt.plot_free_energy(xall, yall, weights=W, levels=20,cmap=\"Blues_r\",nbins=20,ax=plt.gca(),cbar_label='')\n",
    "plt.scatter(open_RC[0],open_RC[1],s=25,c=\"cyan\",edgecolor=\"black\",zorder=999)\n",
    "plt.text(open_RC[0],open_RC[1]+8, \"4AKE\\n(OP)\",c=\"white\")\n",
    "plt.scatter(closed_RC[0],closed_RC[1],s=25,c=\"cyan\",edgecolor=\"black\",zorder=999)\n",
    "plt.text(closed_RC[0]-10,closed_RC[1]-25, \"1AKE\\n(Cl)\",c=\"black\")\n",
    "plt.xlabel(\"PC1 [Å]\")\n",
    "plt.ylabel(\"PC2 [Å]\")\n",
    "plt.xlim(-80,100)\n",
    "plt.ylim(-100,100)\n",
    "plt.tight_layout()\n",
    "plt.savefig(\"Only\" + \"_FEL.pdf\")"
   ]
  },
  {
   "cell_type": "code",
   "execution_count": null,
   "metadata": {
    "scrolled": false
   },
   "outputs": [],
   "source": [
    "all_reader=[]\n",
    "for index,name in enumerate(sorted(glob.glob(\"./candi_*/RC.txt\"))):\n",
    "        all_reader.extend(np.loadtxt(name))\n",
    "np.savetxt(\"all_RC.txt\",np.array(all_reader))"
   ]
  },
  {
   "cell_type": "code",
   "execution_count": null,
   "metadata": {},
   "outputs": [],
   "source": [
    "def plot_nice_pmf(xall,yall,weights,n_bins=25,ax=None):\n",
    "    H = np.histogram2d(xall,yall, bins=n_bins, weights=weights)\n",
    "    datanumber = np.sum(H[0])\n",
    "    with np.errstate(divide='ignore'):\n",
    "        logedH = -np.log(H[0].T/datanumber)\n",
    "    minimalenagy = np.min(logedH)\n",
    "    Z=logedH-minimalenagy\n",
    "    x=[]\n",
    "    for i in range(len(H[1])-1):\n",
    "        x.append((H[1][i]+H[1][i+1])/2)\n",
    "    y=[]\n",
    "    for i in range(len(H[2])-1):\n",
    "        y.append((H[2][i]+H[2][i+1])/2)\n",
    "    X, Y = np.meshgrid(x, y)\n",
    "    plt.contourf(X, Y, Z,levels=20,cmap=\"Blues_r\")\n",
    "    plt.colorbar()\n",
    "    plt.contour(X, Y, Z,levels=20,colors=\"white\",linewidths=0.1)"
   ]
  },
  {
   "cell_type": "code",
   "execution_count": null,
   "metadata": {},
   "outputs": [],
   "source": [
    "timeseries=np.loadtxt(\"string_RC.xvg\")\n",
    "skip=2\n",
    "matplotlib.rcParams.update({'font.size': 8})\n",
    "plt.figure(figsize=(83/25.4,2.5))\n",
    "plot_nice_pmf(xall,yall,W,ax=plt.gca())\n",
    "plt.plot(timeseries[::skip,0], timeseries[::skip,1],color=\"yellow\",marker='.', linewidth=1, markersize=3)\n",
    "plt.scatter(open_RC[0],open_RC[1],s=25,c=\"#F8B62D\",edgecolor=\"black\",zorder=999)\n",
    "plt.text(open_RC[0],open_RC[1]+8, \"4AKE\\n(OP)\",c=\"white\")\n",
    "plt.scatter(closed_RC[0],closed_RC[1],s=25,c=\"#F8B62D\",edgecolor=\"black\",zorder=999)\n",
    "plt.text(closed_RC[0]-20,closed_RC[1]+20, \"1AKE(Cl)\",c=\"black\")\n",
    "plt.xlabel(\"PC1 [Å]\")\n",
    "plt.ylabel(\"PC2 [Å]\")\n",
    "plt.xlim(-80,100)\n",
    "plt.ylim(-100,100)\n",
    "plt.tight_layout()\n",
    "plt.savefig(\"GERBIL_reMSM_FEL.pdf\")"
   ]
  }
 ],
 "metadata": {
  "kernelspec": {
   "display_name": "Python 3",
   "language": "python",
   "name": "python3"
  },
  "language_info": {
   "codemirror_mode": {
    "name": "ipython",
    "version": 3
   },
   "file_extension": ".py",
   "mimetype": "text/x-python",
   "name": "python",
   "nbconvert_exporter": "python",
   "pygments_lexer": "ipython3",
   "version": "3.6.8"
  }
 },
 "nbformat": 4,
 "nbformat_minor": 4
}
