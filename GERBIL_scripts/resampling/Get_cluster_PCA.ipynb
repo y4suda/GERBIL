{
 "cells": [
  {
   "cell_type": "markdown",
   "metadata": {},
   "source": [
    "# "
   ]
  },
  {
   "cell_type": "code",
   "execution_count": null,
   "metadata": {},
   "outputs": [],
   "source": [
    "import pyemma\n",
    "pyemma.__version__\n",
    "import os\n",
    "import itertools\n",
    "import matplotlib\n",
    "import matplotlib.pyplot as plt\n",
    "import matplotlib.cm as cm\n",
    "import numpy as np\n",
    "import glob\n",
    "import MDAnalysis as mda\n",
    "import MDAnalysis.transformations\n",
    "from tqdm import tqdm_notebook as tqdm\n",
    "import pyemma.coordinates as coor\n",
    "import warnings"
   ]
  },
  {
   "cell_type": "markdown",
   "metadata": {},
   "source": [
    "# Conduct PCA"
   ]
  },
  {
   "cell_type": "code",
   "execution_count": null,
   "metadata": {},
   "outputs": [],
   "source": [
    "curre_dir=%pwd\n",
    "all_xtc=sorted(glob.glob(f\"../gerbil_main/candi*/*/amd_noPBC.xtc\"))\n",
    "top=glob.glob(\"../gerbil_main/input/em.gro\")[0]\n",
    "print(top,len(all_xtc))"
   ]
  },
  {
   "cell_type": "code",
   "execution_count": null,
   "metadata": {},
   "outputs": [],
   "source": [
    "traj_c_alpha=[]\n",
    "ref = mda.Universe(top)\n",
    "ref_c_alpha = ref.select_atoms(\"name CA\")\n",
    "for traj in tqdm(all_xtc):\n",
    "    u = mda.Universe(top, traj)\n",
    "    c_alpha = u.select_atoms(\"name CA\")\n",
    "    transform = mda.transformations.fit_rot_trans(c_alpha, ref_c_alpha ,weights=\"mass\")\n",
    "    u.trajectory.add_transformations(transform)\n",
    "    for ts in (u.trajectory):\n",
    "        traj_c_alpha.append(list(itertools.chain.from_iterable(c_alpha.positions)))\n",
    "print(np.shape(traj_c_alpha))"
   ]
  },
  {
   "cell_type": "code",
   "execution_count": null,
   "metadata": {},
   "outputs": [],
   "source": [
    "from sklearn.decomposition import PCA\n",
    "pca = PCA()\n",
    "pca.fit(traj_c_alpha)\n",
    "init_pca = pca.transform(traj_c_alpha)"
   ]
  },
  {
   "cell_type": "code",
   "execution_count": null,
   "metadata": {},
   "outputs": [],
   "source": [
    "plt.plot([0] + list(np.cumsum(pca.explained_variance_ratio_))[:10], linewidth=0, marker='o', markersize=3, color='black')\n",
    "print(pca.explained_variance_ratio_[:10])"
   ]
  },
  {
   "cell_type": "markdown",
   "metadata": {},
   "source": [
    "# 射影"
   ]
  },
  {
   "cell_type": "code",
   "execution_count": null,
   "metadata": {},
   "outputs": [],
   "source": [
    "all_xtc=sorted(glob.glob(\"./candi*/cluser_noPBC.xtc\"))\n",
    "print(len(all_xtc))"
   ]
  },
  {
   "cell_type": "code",
   "execution_count": null,
   "metadata": {
    "scrolled": true
   },
   "outputs": [],
   "source": [
    "!./trajtop.sh 200"
   ]
  },
  {
   "cell_type": "code",
   "execution_count": null,
   "metadata": {},
   "outputs": [],
   "source": [
    "for traj in tqdm(all_xtc):\n",
    "        place=traj.replace(\"cluser_noPBC.xtc\",\"\")\n",
    "        u = mda.Universe(traj.replace(\"cluser_noPBC.xtc\",\"em_nowater.gro\"),traj)\n",
    "        c_alpha = u.select_atoms(\"name CA\")\n",
    "        transform = mda.transformations.fit_rot_trans(c_alpha, ref_c_alpha ,weights=\"mass\")\n",
    "        u.trajectory.add_transformations(transform)\n",
    "        traj_c_alpha=[]\n",
    "        for ts in u.trajectory:\n",
    "            traj_c_alpha.append(list(itertools.chain.from_iterable(c_alpha.positions)))\n",
    "        pca_result=pca.transform(traj_c_alpha)\n",
    "        np.savetxt(f\"{place}RC.txt\",np.array([pca_result[:,0],pca_result[:,1]]).T)    "
   ]
  },
  {
   "cell_type": "code",
   "execution_count": null,
   "metadata": {},
   "outputs": [],
   "source": [
    "all_reader=[]\n",
    "for index,name in enumerate(sorted(glob.glob(f\"./candi_*/RC.txt\"))):\n",
    "    all_reader.append(np.loadtxt(name))\n",
    "all_XYZ=all_reader\n",
    "all_X=np.vstack(all_XYZ)[:,0]\n",
    "all_Y=np.vstack(all_XYZ)[:,1]\n",
    "print(np.shape(all_X),np.shape(all_Y))"
   ]
  },
  {
   "cell_type": "markdown",
   "metadata": {},
   "source": [
    "  # 結晶構造の射影"
   ]
  },
  {
   "cell_type": "code",
   "execution_count": null,
   "metadata": {},
   "outputs": [],
   "source": [
    "def conduct_pca(name):\n",
    "    ref = mda.Universe(\"../gerbil_main/input/em.gro\")\n",
    "    ref_c_alpha = ref.select_atoms(\"name CA\")\n",
    "    u = mda.Universe(name,name)\n",
    "    c_alpha = u.select_atoms(\"name CA\")\n",
    "    transform = mda.transformations.fit_rot_trans(c_alpha, ref_c_alpha ,weights=\"mass\")\n",
    "    u.trajectory.add_transformations(transform)\n",
    "    traj_c_alpha=[]\n",
    "    for ts in (u.trajectory):\n",
    "            traj_c_alpha.append(list(itertools.chain.from_iterable(c_alpha.positions)))\n",
    "    pca_result=pca.transform(traj_c_alpha)  \n",
    "    return [pca_result[:,0],pca_result[:,1]]"
   ]
  },
  {
   "cell_type": "code",
   "execution_count": null,
   "metadata": {},
   "outputs": [],
   "source": [
    "op=\"../gerbil_main/input/em_nowater.gro\"\n",
    "cl=\"../input/closed_nowater.gro\"\n",
    "op_pca=(conduct_pca(op))\n",
    "cl_pca=(conduct_pca(cl))\n",
    "np.savetxt(\"./OP_RC.txt\",np.array(op_pca).T)\n",
    "np.savetxt(\"./CL_RC.txt\",np.array(cl_pca).T)"
   ]
  },
  {
   "cell_type": "code",
   "execution_count": null,
   "metadata": {},
   "outputs": [],
   "source": []
  }
 ],
 "metadata": {
  "kernelspec": {
   "display_name": "Python 3",
   "language": "python",
   "name": "python3"
  },
  "language_info": {
   "codemirror_mode": {
    "name": "ipython",
    "version": 3
   },
   "file_extension": ".py",
   "mimetype": "text/x-python",
   "name": "python",
   "nbconvert_exporter": "python",
   "pygments_lexer": "ipython3",
   "version": "3.6.8"
  }
 },
 "nbformat": 4,
 "nbformat_minor": 4
}
